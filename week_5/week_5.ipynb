import sagemaker
import boto3
from sagemaker.amazon.amazon_estimator  import get_image_uri
from sagemaker.session import s3_input, Session
my_region = boto3.session. Session().region_name
my_region
s3_input_train = sagemaker.inputs.TrainingInput(s3_data='s3://alfrednine/train'.format("wine_train_four.csv"), content_type='csv')
s3_input_test = sagemaker.inputs.TrainingInput(s3_data='s3://alfrednine/test'.format("wine_test_four.csv"), content_type='csv')

hyperparameters = {'max_depth':'5',
    'eta': '0.2',
    'gamma': '4',
    'min_child_weight':'6',
    'subsample':'0.7',
    'objective':'binary:logistic',
    'num_round':50
}

Xgb_predictor = estimator.deploy(initial_instance_count=1, instance_type=”ml.m4.xlarge”)

from sagemaker import get_execution_role
role = get_execution_role()


